{
 "cells": [
  {
   "cell_type": "code",
   "execution_count": 1,
   "id": "499bff21",
   "metadata": {},
   "outputs": [],
   "source": [
    "import pandas as pd\n",
    "import random\n",
    "\n",
    "import joblib"
   ]
  },
  {
   "cell_type": "code",
   "execution_count": 2,
   "id": "68f5c3f1",
   "metadata": {},
   "outputs": [],
   "source": [
    "model = joblib.load('model.pkl')\n",
    "vectorizer = joblib.load('tfidf_vectorizer.pkl')"
   ]
  },
  {
   "cell_type": "code",
   "execution_count": 3,
   "id": "d0e2b4cb",
   "metadata": {},
   "outputs": [],
   "source": [
    "def smart_predict(skills_text, top1_threshold=0.3, min_prob_threshold=0.027):\n",
    "    X_vec = vectorizer.transform([skills_text])\n",
    "    \n",
    "    proba = model.predict_proba(X_vec)[0]\n",
    "    classes = model.classes_\n",
    "    \n",
    "    top_indices = proba.argsort()[::-1]\n",
    "    \n",
    "    top1_prob = proba[top_indices[0]]\n",
    "    \n",
    "    if top1_prob >= top1_threshold:\n",
    "        result = [(classes[top_indices[0]], round(top1_prob * 100, 2))]\n",
    "    else:\n",
    "        result = []\n",
    "        for idx in top_indices:\n",
    "            if proba[idx] >= min_prob_threshold:\n",
    "                result.append((classes[idx], round(proba[idx] * 100, 2)))\n",
    "                \n",
    "    if not result:\n",
    "        result.append((classes[top_indices[0]], round(proba[top_indices[0]] * 100, 2)))\n",
    "        result.append((classes[top_indices[1]], round(proba[top_indices[0]] * 100, 2)))\n",
    "        result.append((classes[top_indices[2]], round(proba[top_indices[0]] * 100, 2)))\n",
    "    \n",
    "    return result"
   ]
  },
  {
   "cell_type": "code",
   "execution_count": 4,
   "id": "9ff1116c",
   "metadata": {},
   "outputs": [
    {
     "name": "stdout",
     "output_type": "stream",
     "text": [
      "Предсказание на основе введенных навыков:\n",
      "- Аналитик данных (6.49%)\n",
      "- Специалист по данным (5.95%)\n"
     ]
    }
   ],
   "source": [
    "user_skills = \"Python, Машинное обучение, Pandas, Статистика,\"\n",
    "\n",
    "# Предсказание\n",
    "predictions = smart_predict(user_skills)\n",
    "\n",
    "print(\"Предсказание на основе введенных навыков:\")\n",
    "for profession, probability in predictions:\n",
    "    print(f\"- {profession} ({probability}%)\")"
   ]
  },
  {
   "cell_type": "code",
   "execution_count": 5,
   "id": "c9630115",
   "metadata": {},
   "outputs": [
    {
     "name": "stdout",
     "output_type": "stream",
     "text": [
      "\n",
      "🎯 Предсказание на основе введенных навыков:\n",
      "- Мобильный разработчик (8.72%)\n"
     ]
    }
   ],
   "source": [
    "user_skills = \"Kotlin, Android Studio, Jetpack Compose\"\n",
    "\n",
    "predictions = smart_predict(user_skills)\n",
    "\n",
    "print(\"\\n🎯 Предсказание на основе введенных навыков:\")\n",
    "for profession, probability in predictions:\n",
    "    print(f\"- {profession} ({probability}%)\")"
   ]
  },
  {
   "cell_type": "code",
   "execution_count": 6,
   "id": "f822f860",
   "metadata": {},
   "outputs": [
    {
     "name": "stdout",
     "output_type": "stream",
     "text": [
      "\n",
      "🎯 Предсказание на основе введенных навыков:\n",
      "- Специалист по данным (3.84%)\n"
     ]
    }
   ],
   "source": [
    "user_skills = \"Python, Машинное обучение, Анализ данных, Статистика, Работа в команде, Креативность\"\n",
    "\n",
    "# Предсказание\n",
    "predictions = smart_predict(user_skills)\n",
    "\n",
    "print(\"\\n🎯 Предсказание на основе введенных навыков:\")\n",
    "for profession, probability in predictions:\n",
    "    print(f\"- {profession} ({probability}%)\")"
   ]
  },
  {
   "cell_type": "code",
   "execution_count": 8,
   "id": "4b8c2843",
   "metadata": {},
   "outputs": [
    {
     "name": "stdout",
     "output_type": "stream",
     "text": [
      "\n",
      "🎯 Предсказание на основе введенных навыков:\n",
      "- Руководитель проектов (5.07%)\n"
     ]
    }
   ],
   "source": [
    "user_skills = \"Планирование проектов, Agile, Планирование спринтов\"\n",
    "\n",
    "# Предсказание\n",
    "predictions = smart_predict(user_skills)\n",
    "\n",
    "print(\"\\n🎯 Предсказание на основе введенных навыков:\")\n",
    "for profession, probability in predictions:\n",
    "    print(f\"- {profession} ({probability}%)\")"
   ]
  },
  {
   "cell_type": "code",
   "execution_count": 14,
   "id": "203be589",
   "metadata": {},
   "outputs": [
    {
     "name": "stdout",
     "output_type": "stream",
     "text": [
      "\n",
      "🎯 Предсказание на основе введенных навыков:\n",
      "- Бухгалтер (21.59%)\n"
     ]
    }
   ],
   "source": [
    "user_skills = \"Бухгалтерский учет, Финансовый анализ, Финансовая отчетность\"\n",
    "\n",
    "# Предсказание\n",
    "predictions = smart_predict(user_skills)\n",
    "\n",
    "print(\"\\n🎯 Предсказание на основе введенных навыков:\")\n",
    "for profession, probability in predictions:\n",
    "    print(f\"- {profession} ({probability}%)\")"
   ]
  },
  {
   "cell_type": "code",
   "execution_count": 15,
   "id": "35197e1a",
   "metadata": {},
   "outputs": [
    {
     "name": "stdout",
     "output_type": "stream",
     "text": [
      "\n",
      "🎯 Предсказание на основе введенных навыков:\n",
      "- Психолог (7.68%)\n",
      "- Социальный работник (4.01%)\n"
     ]
    }
   ],
   "source": [
    "user_skills = \"Управление случаями, Кризисное вмешательство, Защита интересов клиента\"\n",
    "\n",
    "# Предсказание\n",
    "predictions = smart_predict(user_skills)\n",
    "\n",
    "print(\"\\n🎯 Предсказание на основе введенных навыков:\")\n",
    "for profession, probability in predictions:\n",
    "    print(f\"- {profession} ({probability}%)\")"
   ]
  },
  {
   "cell_type": "code",
   "execution_count": null,
   "id": "a0755882",
   "metadata": {},
   "outputs": [],
   "source": []
  }
 ],
 "metadata": {
  "kernelspec": {
   "display_name": "Python 3 (ipykernel)",
   "language": "python",
   "name": "python3"
  },
  "language_info": {
   "codemirror_mode": {
    "name": "ipython",
    "version": 3
   },
   "file_extension": ".py",
   "mimetype": "text/x-python",
   "name": "python",
   "nbconvert_exporter": "python",
   "pygments_lexer": "ipython3",
   "version": "3.9.13"
  }
 },
 "nbformat": 4,
 "nbformat_minor": 5
}
